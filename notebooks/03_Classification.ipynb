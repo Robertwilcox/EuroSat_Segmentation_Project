{
 "cells": [
  {
   "cell_type": "code",
   "execution_count": null,
   "metadata": {},
   "outputs": [
    {
     "name": "stdout",
     "output_type": "stream",
     "text": [
      "Project root added to sys.path: c:\\Users\\rober\\Desktop\\516FP\\EuroSat_Segmentation_Project\n"
     ]
    }
   ],
   "source": [
    "import sys\n",
    "import os\n",
    "project_root = os.path.abspath(os.path.join(os.getcwd(), \"..\"))\n",
    "if project_root not in sys.path:\n",
    "    sys.path.insert(0, project_root)\n",
    "print(\"Project root added to sys.path:\", project_root)\n"
   ]
  },
  {
   "cell_type": "code",
   "execution_count": 36,
   "metadata": {},
   "outputs": [
    {
     "name": "stdout",
     "output_type": "stream",
     "text": [
      "Libraries imported successfully.\n"
     ]
    }
   ],
   "source": [
    "import numpy as np\n",
    "import pandas as pd\n",
    "import matplotlib.pyplot as plt\n",
    "import cv2\n",
    "\n",
    "from sklearn.model_selection import train_test_split\n",
    "from sklearn.svm import SVC\n",
    "from sklearn.metrics import classification_report, confusion_matrix\n",
    "\n",
    "# Import classifier and feature extraction functions.\n",
    "from src.classification.classifier import (\n",
    "    extract_combined_features, \n",
    "    extract_segmented_features,\n",
    "    LandUseClassifier,\n",
    "    RobustLandUseClassifier\n",
    ")\n",
    "\n",
    "print(\"Libraries imported successfully.\")\n"
   ]
  },
  {
   "cell_type": "code",
   "execution_count": 37,
   "metadata": {},
   "outputs": [],
   "source": [
    "K = 2          # Number of segments/clusters for segmentation\n",
    "M = 2          # Fuzziness parameter for fuzzy C‑means\n",
    "SAMPLE_SIZE = 10000  # Number of training images to sample (adjust as needed)"
   ]
  },
  {
   "cell_type": "code",
   "execution_count": 38,
   "metadata": {},
   "outputs": [
    {
     "name": "stdout",
     "output_type": "stream",
     "text": [
      "Train CSV columns: Index(['Filename', 'Label', 'ClassName'], dtype='object')\n",
      "Train CSV head:\n",
      "                                                Filename  Label  \\\n",
      "16257                      AnnualCrop/AnnualCrop_142.jpg      0   \n",
      "3297   HerbaceousVegetation/HerbaceousVegetation_2835...      2   \n",
      "17881               PermanentCrop/PermanentCrop_1073.jpg      6   \n",
      "2223                       Industrial/Industrial_453.jpg      4   \n",
      "4887   HerbaceousVegetation/HerbaceousVegetation_1810...      2   \n",
      "\n",
      "                  ClassName  \n",
      "16257            AnnualCrop  \n",
      "3297   HerbaceousVegetation  \n",
      "17881         PermanentCrop  \n",
      "2223             Industrial  \n",
      "4887   HerbaceousVegetation  \n"
     ]
    }
   ],
   "source": [
    "# Define the CSV directory path (relative from notebooks folder)\n",
    "csv_dir = os.path.join(\"..\", \"data\", \"raw\", \"EuroSAT\")\n",
    "train_csv_path = os.path.join(csv_dir, \"train.csv\")\n",
    "val_csv_path   = os.path.join(csv_dir, \"validation.csv\")\n",
    "test_csv_path  = os.path.join(csv_dir, \"test.csv\")\n",
    "\n",
    "# Load CSV files using pandas\n",
    "train_df = pd.read_csv(train_csv_path, index_col=0)\n",
    "val_df   = pd.read_csv(val_csv_path, index_col=0)\n",
    "test_df  = pd.read_csv(test_csv_path, index_col=0)\n",
    "\n",
    "print(\"Train CSV columns:\", train_df.columns)\n",
    "print(\"Train CSV head:\")\n",
    "print(train_df.head())"
   ]
  },
  {
   "cell_type": "code",
   "execution_count": 39,
   "metadata": {},
   "outputs": [],
   "source": [
    "def load_image(image_path):\n",
    "    \"\"\"Load an image and convert it to RGB.\"\"\"\n",
    "    img = cv2.imread(image_path)\n",
    "    if img is None:\n",
    "        print(\"Error loading image:\", image_path)\n",
    "        return None\n",
    "    return cv2.cvtColor(img, cv2.COLOR_BGR2RGB)\n",
    "\n",
    "def extract_features_raw(img_path):\n",
    "    \"\"\"Extract features from the raw (full) image.\"\"\"\n",
    "    img = load_image(img_path)\n",
    "    if img is None:\n",
    "        return None\n",
    "    return extract_combined_features(img)\n",
    "\n",
    "def extract_features_kmeans(img_path, k=K):\n",
    "    \"\"\"Extract features from the image using k-means segmentation.\"\"\"\n",
    "    img = load_image(img_path)\n",
    "    if img is None:\n",
    "        return None\n",
    "    # Use extract_segmented_features with method 'kmeans'\n",
    "    return extract_segmented_features(img, k=k, m=M, method='kmeans')\n",
    "\n",
    "def extract_features_fuzzy(img_path, k=K, m=M):\n",
    "    \"\"\"Extract features from the image using fuzzy C-means segmentation.\"\"\"\n",
    "    img = load_image(img_path)\n",
    "    if img is None:\n",
    "        return None\n",
    "    # Use extract_segmented_features with method 'fuzzy'\n",
    "    return extract_segmented_features(img, k=k, m=m, method='fuzzy')"
   ]
  },
  {
   "cell_type": "code",
   "execution_count": 40,
   "metadata": {},
   "outputs": [
    {
     "name": "stdout",
     "output_type": "stream",
     "text": [
      "Raw features shape: (10000, 16)\n",
      "K-Means features shape: (10000, 16)\n",
      "Fuzzy C-Means features shape: (10000, 16)\n",
      "Labels shape: (10000,)\n"
     ]
    }
   ],
   "source": [
    "# Sample training data (you may adjust SAMPLE_SIZE)\n",
    "sample_train = train_df.sample(n=SAMPLE_SIZE, random_state=42)\n",
    "\n",
    "X_raw = []\n",
    "X_kmeans = []\n",
    "X_fuzzy = []\n",
    "y = []\n",
    "\n",
    "for idx, row in sample_train.iterrows():\n",
    "    # \"Filename\" already contains a relative path, e.g., \"AnnualCrop/AnnualCrop_142.jpg\"\n",
    "    img_filename = row[\"Filename\"]\n",
    "    img_path = os.path.join(\"..\", \"data\", \"raw\", \"EuroSAT\", img_filename)\n",
    "    \n",
    "    features_raw = extract_features_raw(img_path)\n",
    "    features_km = extract_features_kmeans(img_path, k=K)\n",
    "    features_fuzzy = extract_features_fuzzy(img_path, k=K, m=M)\n",
    "    \n",
    "    if features_raw is not None and features_km is not None and features_fuzzy is not None:\n",
    "        X_raw.append(features_raw)\n",
    "        X_kmeans.append(features_km)\n",
    "        X_fuzzy.append(features_fuzzy)\n",
    "        y.append(row[\"ClassName\"])\n",
    "\n",
    "X_raw = np.array(X_raw)\n",
    "X_kmeans = np.array(X_kmeans)\n",
    "X_fuzzy = np.array(X_fuzzy)\n",
    "y = np.array(y)\n",
    "\n",
    "print(\"Raw features shape:\", X_raw.shape)\n",
    "print(\"K-Means features shape:\", X_kmeans.shape)\n",
    "print(\"Fuzzy C-Means features shape:\", X_fuzzy.shape)\n",
    "print(\"Labels shape:\", y.shape)"
   ]
  },
  {
   "cell_type": "code",
   "execution_count": 41,
   "metadata": {},
   "outputs": [
    {
     "name": "stdout",
     "output_type": "stream",
     "text": [
      "Training set size (raw): (7000, 16)\n",
      "Validation set size (raw): (3000, 16)\n"
     ]
    }
   ],
   "source": [
    "from sklearn.model_selection import train_test_split\n",
    "\n",
    "# For raw features:\n",
    "X_train_raw, X_val_raw, y_train, y_val = train_test_split(\n",
    "    X_raw, y, test_size=0.3, random_state=42, stratify=y\n",
    ")\n",
    "# For k-means segmented features:\n",
    "X_train_km, X_val_km, _, _ = train_test_split(\n",
    "    X_kmeans, y, test_size=0.3, random_state=42, stratify=y\n",
    ")\n",
    "# For fuzzy C-means segmented features:\n",
    "X_train_fuzzy, X_val_fuzzy, _, _ = train_test_split(\n",
    "    X_fuzzy, y, test_size=0.3, random_state=42, stratify=y\n",
    ")\n",
    "\n",
    "print(\"Training set size (raw):\", X_train_raw.shape)\n",
    "print(\"Validation set size (raw):\", X_val_raw.shape)"
   ]
  },
  {
   "cell_type": "code",
   "execution_count": 42,
   "metadata": {},
   "outputs": [
    {
     "name": "stdout",
     "output_type": "stream",
     "text": [
      "Raw model evaluation:\n",
      "Classification Report:\n",
      "                      precision    recall  f1-score   support\n",
      "\n",
      "          AnnualCrop       0.77      0.72      0.74       339\n",
      "              Forest       0.68      0.92      0.79       333\n",
      "HerbaceousVegetation       0.61      0.54      0.57       334\n",
      "             Highway       0.40      0.16      0.23       291\n",
      "          Industrial       0.79      0.92      0.85       270\n",
      "             Pasture       0.64      0.70      0.67       216\n",
      "       PermanentCrop       0.54      0.52      0.53       275\n",
      "         Residential       0.58      0.74      0.65       333\n",
      "               River       0.50      0.59      0.54       285\n",
      "             SeaLake       0.92      0.65      0.76       324\n",
      "\n",
      "            accuracy                           0.65      3000\n",
      "           macro avg       0.64      0.65      0.63      3000\n",
      "        weighted avg       0.65      0.65      0.64      3000\n",
      "\n",
      "Confusion Matrix:\n",
      "[[245   3  21   8   1  16  22   4  19   0]\n",
      " [  0 307   1   0   0  12   0   2   1  10]\n",
      " [  2  10 182  10  12   3  46  51  14   4]\n",
      " [ 28   5   7  47  13  12  29  56  94   0]\n",
      " [  0   0   0   4 248   0   1  16   1   0]\n",
      " [  2  22  20   5   0 152   1   2   8   4]\n",
      " [ 31   0  48   9   6   3 143  26   9   0]\n",
      " [  0   0   6  17  22   0  24 245  18   1]\n",
      " [ 12  17   5  18  12  30   1  21 169   0]\n",
      " [  0  85  10   0   0  10   0   1   8 210]]\n"
     ]
    }
   ],
   "source": [
    "# Train classifier on raw features:\n",
    "classifier_raw = LandUseClassifier()\n",
    "classifier_raw.train(X_train_raw, y_train)\n",
    "print(\"Raw model evaluation:\")\n",
    "classifier_raw.evaluate(X_val_raw, y_val)\n",
    "model_dir = os.path.join(\"..\", \"models\")\n",
    "if not os.path.exists(model_dir):\n",
    "    os.makedirs(model_dir)\n",
    "classifier_raw.save(os.path.join(model_dir, \"landuse_classifier_raw.pkl\"))"
   ]
  },
  {
   "cell_type": "code",
   "execution_count": 43,
   "metadata": {},
   "outputs": [
    {
     "name": "stdout",
     "output_type": "stream",
     "text": [
      "K-Means segmented model evaluation:\n",
      "Classification Report:\n",
      "                      precision    recall  f1-score   support\n",
      "\n",
      "          AnnualCrop       0.42      0.64      0.51       339\n",
      "              Forest       0.65      0.88      0.74       333\n",
      "HerbaceousVegetation       0.48      0.37      0.42       334\n",
      "             Highway       0.22      0.07      0.11       291\n",
      "          Industrial       0.62      0.79      0.70       270\n",
      "             Pasture       0.49      0.45      0.47       216\n",
      "       PermanentCrop       0.44      0.12      0.19       275\n",
      "         Residential       0.38      0.60      0.47       333\n",
      "               River       0.37      0.35      0.36       285\n",
      "             SeaLake       0.76      0.63      0.69       324\n",
      "\n",
      "            accuracy                           0.50      3000\n",
      "           macro avg       0.48      0.49      0.47      3000\n",
      "        weighted avg       0.49      0.50      0.47      3000\n",
      "\n",
      "Confusion Matrix:\n",
      "[[217   3  25  17  15  12   8  27  15   0]\n",
      " [  0 292   1   0   0  13   0   2   5  20]\n",
      " [ 72  11 125   8  22   2  15  60  19   0]\n",
      " [ 40  19  30  21  16   9  10  81  65   0]\n",
      " [  6   0   0   0 212   0   6  46   0   0]\n",
      " [  2  21  15   6   2  97   0  11  26  36]\n",
      " [146   2  28  10   8   2  34  29  16   0]\n",
      " [ 22   1  19  10  55   2   4 199  20   1]\n",
      " [  7  35  16  24   9  33   0  54 101   6]\n",
      " [  2  67   2   1   1  28   0  11   8 204]]\n"
     ]
    }
   ],
   "source": [
    "# Train classifier on k-means segmented features:\n",
    "classifier_km = LandUseClassifier()\n",
    "classifier_km.train(X_train_km, y_train)\n",
    "print(\"K-Means segmented model evaluation:\")\n",
    "classifier_km.evaluate(X_val_km, y_val)\n",
    "classifier_km.save(os.path.join(model_dir, \"landuse_classifier_kmeans.pkl\"))"
   ]
  },
  {
   "cell_type": "code",
   "execution_count": null,
   "metadata": {},
   "outputs": [
    {
     "name": "stdout",
     "output_type": "stream",
     "text": [
      "Fuzzy C-Means segmented model evaluation:\n",
      "Classification Report:\n",
      "                      precision    recall  f1-score   support\n",
      "\n",
      "          AnnualCrop       0.42      0.63      0.51       339\n",
      "              Forest       0.65      0.87      0.74       333\n",
      "HerbaceousVegetation       0.49      0.39      0.44       334\n",
      "             Highway       0.19      0.06      0.09       291\n",
      "          Industrial       0.62      0.78      0.69       270\n",
      "             Pasture       0.50      0.47      0.48       216\n",
      "       PermanentCrop       0.41      0.12      0.19       275\n",
      "         Residential       0.40      0.63      0.49       333\n",
      "               River       0.38      0.36      0.37       285\n",
      "             SeaLake       0.75      0.62      0.68       324\n",
      "\n",
      "            accuracy                           0.50      3000\n",
      "           macro avg       0.48      0.49      0.47      3000\n",
      "        weighted avg       0.48      0.50      0.47      3000\n",
      "\n",
      "Confusion Matrix:\n",
      "[[212   3  33  18  16  14   9  22  11   1]\n",
      " [  0 289   1   0   0  13   0   2   5  23]\n",
      " [ 68  11 130   9  21   2  16  58  19   0]\n",
      " [ 38  18  25  18  16   9  12  88  67   0]\n",
      " [  9   0   0   0 211   0   5  44   1   0]\n",
      " [  2  19  15   7   2 102   0  11  23  35]\n",
      " [146   2  28   7   8   3  34  28  19   0]\n",
      " [ 16   1  13  13  57   0   7 211  14   1]\n",
      " [  7  35  16  22   9  34   0  51 103   8]\n",
      " [  2  70   2   1   1  29   0  11   7 201]]\n"
     ]
    }
   ],
   "source": [
    "# Train classifier on fuzzy C-means segmented features:\n",
    "classifier_fuzzy = LandUseClassifier()\n",
    "classifier_fuzzy.train(X_train_fuzzy, y_train)\n",
    "print(\"Fuzzy C-Means segmented model evaluation:\")\n",
    "classifier_fuzzy.evaluate(X_val_fuzzy, y_val)\n",
    "classifier_fuzzy.save(os.path.join(model_dir, \"landuse_classifier_fuzzy.pkl\"))"
   ]
  },
  {
   "cell_type": "code",
   "execution_count": 45,
   "metadata": {},
   "outputs": [
    {
     "name": "stdout",
     "output_type": "stream",
     "text": [
      "Python executable: C:\\Users\\rober\\AppData\\Local\\Microsoft\\WindowsApps\\PythonSoftwareFoundation.Python.3.11_qbz5n2kfra8p0\\python.exe\n",
      "scikit-learn version: 1.5.2\n"
     ]
    }
   ],
   "source": [
    "import sys\n",
    "import sklearn\n",
    "print(\"Python executable:\", sys.executable)\n",
    "print(\"scikit-learn version:\", sklearn.__version__)"
   ]
  },
  {
   "cell_type": "markdown",
   "metadata": {},
   "source": [
    "## Observations\n",
    "\n",
    "- The feature extraction function (mean and standard deviation of color channels) produced a feature vector of length 6.\n",
    "- The classifier (SVM) was trained on a subset of the data (50 samples) and evaluated on a validation split.\n",
    "- The classification report and confusion matrix indicate areas for improvement—particularly by increasing the sample size and possibly refining feature extraction."
   ]
  }
 ],
 "metadata": {
  "kernelspec": {
   "display_name": "Python 3",
   "language": "python",
   "name": "python3"
  },
  "language_info": {
   "codemirror_mode": {
    "name": "ipython",
    "version": 3
   },
   "file_extension": ".py",
   "mimetype": "text/x-python",
   "name": "python",
   "nbconvert_exporter": "python",
   "pygments_lexer": "ipython3",
   "version": "3.11.9"
  }
 },
 "nbformat": 4,
 "nbformat_minor": 2
}
