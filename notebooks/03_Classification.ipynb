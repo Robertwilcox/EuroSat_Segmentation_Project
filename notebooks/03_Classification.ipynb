{
 "cells": [
  {
   "cell_type": "code",
   "execution_count": 18,
   "metadata": {},
   "outputs": [
    {
     "name": "stdout",
     "output_type": "stream",
     "text": [
      "Project root added to sys.path: c:\\Users\\rober\\OneDrive\\Desktop\\516_fp\\EuroSat_Segmentation_Project\n"
     ]
    }
   ],
   "source": [
    "import sys\n",
    "import os\n",
    "\n",
    "# Since this notebook is in the notebooks folder, move up one level to the project root.\n",
    "project_root = os.path.abspath(os.path.join(os.getcwd(), \"..\"))\n",
    "if project_root not in sys.path:\n",
    "    sys.path.insert(0, project_root)\n",
    "print(\"Project root added to sys.path:\", project_root)\n"
   ]
  },
  {
   "cell_type": "code",
   "execution_count": 19,
   "metadata": {},
   "outputs": [
    {
     "name": "stdout",
     "output_type": "stream",
     "text": [
      "Libraries imported successfully.\n"
     ]
    }
   ],
   "source": [
    "import numpy as np\n",
    "import pandas as pd\n",
    "import matplotlib.pyplot as plt\n",
    "import cv2\n",
    "\n",
    "from sklearn.model_selection import train_test_split\n",
    "from sklearn.svm import SVC\n",
    "from sklearn.metrics import classification_report, confusion_matrix\n",
    "\n",
    "# Import classifier and feature extraction functions.\n",
    "from src.classification.classifier import (\n",
    "    extract_combined_features, \n",
    "    extract_segmented_features,\n",
    "    LandUseClassifier,\n",
    "    RobustLandUseClassifier\n",
    ")\n",
    "\n",
    "print(\"Libraries imported successfully.\")\n"
   ]
  },
  {
   "cell_type": "code",
   "execution_count": null,
   "metadata": {},
   "outputs": [],
   "source": [
    "K = 2          # Number of segments/clusters for segmentation\n",
    "M = 2          # Fuzziness parameter for fuzzy C‑means\n",
    "SAMPLE_SIZE = 5000  # Number of training images to sample (adjust as needed)"
   ]
  },
  {
   "cell_type": "code",
   "execution_count": 21,
   "metadata": {},
   "outputs": [
    {
     "name": "stdout",
     "output_type": "stream",
     "text": [
      "Train CSV columns: Index(['Filename', 'Label', 'ClassName'], dtype='object')\n",
      "Train CSV head:\n",
      "                                                Filename  Label  \\\n",
      "16257                      AnnualCrop/AnnualCrop_142.jpg      0   \n",
      "3297   HerbaceousVegetation/HerbaceousVegetation_2835...      2   \n",
      "17881               PermanentCrop/PermanentCrop_1073.jpg      6   \n",
      "2223                       Industrial/Industrial_453.jpg      4   \n",
      "4887   HerbaceousVegetation/HerbaceousVegetation_1810...      2   \n",
      "\n",
      "                  ClassName  \n",
      "16257            AnnualCrop  \n",
      "3297   HerbaceousVegetation  \n",
      "17881         PermanentCrop  \n",
      "2223             Industrial  \n",
      "4887   HerbaceousVegetation  \n"
     ]
    }
   ],
   "source": [
    "# Define the CSV directory path (relative from notebooks folder)\n",
    "csv_dir = os.path.join(\"..\", \"data\", \"raw\", \"EuroSAT\")\n",
    "train_csv_path = os.path.join(csv_dir, \"train.csv\")\n",
    "val_csv_path   = os.path.join(csv_dir, \"validation.csv\")\n",
    "test_csv_path  = os.path.join(csv_dir, \"test.csv\")\n",
    "\n",
    "# Load CSV files using pandas\n",
    "train_df = pd.read_csv(train_csv_path, index_col=0)\n",
    "val_df   = pd.read_csv(val_csv_path, index_col=0)\n",
    "test_df  = pd.read_csv(test_csv_path, index_col=0)\n",
    "\n",
    "print(\"Train CSV columns:\", train_df.columns)\n",
    "print(\"Train CSV head:\")\n",
    "print(train_df.head())"
   ]
  },
  {
   "cell_type": "code",
   "execution_count": 22,
   "metadata": {},
   "outputs": [],
   "source": [
    "def load_image(image_path):\n",
    "    \"\"\"Load an image and convert it to RGB.\"\"\"\n",
    "    img = cv2.imread(image_path)\n",
    "    if img is None:\n",
    "        print(\"Error loading image:\", image_path)\n",
    "        return None\n",
    "    return cv2.cvtColor(img, cv2.COLOR_BGR2RGB)\n",
    "\n",
    "def extract_features_raw(img_path):\n",
    "    \"\"\"Extract features from the raw (full) image.\"\"\"\n",
    "    img = load_image(img_path)\n",
    "    if img is None:\n",
    "        return None\n",
    "    return extract_combined_features(img)\n",
    "\n",
    "def extract_features_kmeans(img_path, k=K):\n",
    "    \"\"\"Extract features from the image using k-means segmentation.\"\"\"\n",
    "    img = load_image(img_path)\n",
    "    if img is None:\n",
    "        return None\n",
    "    # Use extract_segmented_features with method 'kmeans'\n",
    "    return extract_segmented_features(img, k=k, m=M, method='kmeans')\n",
    "\n",
    "def extract_features_fuzzy(img_path, k=K, m=M):\n",
    "    \"\"\"Extract features from the image using fuzzy C-means segmentation.\"\"\"\n",
    "    img = load_image(img_path)\n",
    "    if img is None:\n",
    "        return None\n",
    "    # Use extract_segmented_features with method 'fuzzy'\n",
    "    return extract_segmented_features(img, k=k, m=m, method='fuzzy')"
   ]
  },
  {
   "cell_type": "code",
   "execution_count": 23,
   "metadata": {},
   "outputs": [
    {
     "name": "stdout",
     "output_type": "stream",
     "text": [
      "Raw features shape: (500, 16)\n",
      "K-Means features shape: (500, 16)\n",
      "Fuzzy C-Means features shape: (500, 16)\n",
      "Labels shape: (500,)\n"
     ]
    }
   ],
   "source": [
    "# Sample training data (you may adjust SAMPLE_SIZE)\n",
    "sample_train = train_df.sample(n=SAMPLE_SIZE, random_state=42)\n",
    "\n",
    "X_raw = []\n",
    "X_kmeans = []\n",
    "X_fuzzy = []\n",
    "y = []\n",
    "\n",
    "for idx, row in sample_train.iterrows():\n",
    "    # \"Filename\" already contains a relative path, e.g., \"AnnualCrop/AnnualCrop_142.jpg\"\n",
    "    img_filename = row[\"Filename\"]\n",
    "    img_path = os.path.join(\"..\", \"data\", \"raw\", \"EuroSAT\", img_filename)\n",
    "    \n",
    "    features_raw = extract_features_raw(img_path)\n",
    "    features_km = extract_features_kmeans(img_path, k=K)\n",
    "    features_fuzzy = extract_features_fuzzy(img_path, k=K, m=M)\n",
    "    \n",
    "    if features_raw is not None and features_km is not None and features_fuzzy is not None:\n",
    "        X_raw.append(features_raw)\n",
    "        X_kmeans.append(features_km)\n",
    "        X_fuzzy.append(features_fuzzy)\n",
    "        y.append(row[\"ClassName\"])\n",
    "\n",
    "X_raw = np.array(X_raw)\n",
    "X_kmeans = np.array(X_kmeans)\n",
    "X_fuzzy = np.array(X_fuzzy)\n",
    "y = np.array(y)\n",
    "\n",
    "print(\"Raw features shape:\", X_raw.shape)\n",
    "print(\"K-Means features shape:\", X_kmeans.shape)\n",
    "print(\"Fuzzy C-Means features shape:\", X_fuzzy.shape)\n",
    "print(\"Labels shape:\", y.shape)"
   ]
  },
  {
   "cell_type": "code",
   "execution_count": 24,
   "metadata": {},
   "outputs": [
    {
     "name": "stdout",
     "output_type": "stream",
     "text": [
      "Training set size (raw): (350, 16)\n",
      "Validation set size (raw): (150, 16)\n"
     ]
    }
   ],
   "source": [
    "from sklearn.model_selection import train_test_split\n",
    "\n",
    "# For raw features:\n",
    "X_train_raw, X_val_raw, y_train, y_val = train_test_split(\n",
    "    X_raw, y, test_size=0.3, random_state=42, stratify=y\n",
    ")\n",
    "# For k-means segmented features:\n",
    "X_train_km, X_val_km, _, _ = train_test_split(\n",
    "    X_kmeans, y, test_size=0.3, random_state=42, stratify=y\n",
    ")\n",
    "# For fuzzy C-means segmented features:\n",
    "X_train_fuzzy, X_val_fuzzy, _, _ = train_test_split(\n",
    "    X_fuzzy, y, test_size=0.3, random_state=42, stratify=y\n",
    ")\n",
    "\n",
    "print(\"Training set size (raw):\", X_train_raw.shape)\n",
    "print(\"Validation set size (raw):\", X_val_raw.shape)"
   ]
  },
  {
   "cell_type": "code",
   "execution_count": 25,
   "metadata": {},
   "outputs": [
    {
     "name": "stdout",
     "output_type": "stream",
     "text": [
      "Raw model evaluation:\n",
      "Classification Report:\n",
      "                      precision    recall  f1-score   support\n",
      "\n",
      "          AnnualCrop       0.40      0.78      0.53        23\n",
      "              Forest       0.49      1.00      0.65        17\n",
      "HerbaceousVegetation       0.47      0.47      0.47        15\n",
      "             Highway       0.00      0.00      0.00        12\n",
      "          Industrial       0.85      1.00      0.92        17\n",
      "             Pasture       0.00      0.00      0.00         9\n",
      "       PermanentCrop       0.00      0.00      0.00        14\n",
      "         Residential       0.00      0.00      0.00        13\n",
      "               River       0.34      0.71      0.47        14\n",
      "             SeaLake       0.33      0.12      0.18        16\n",
      "\n",
      "            accuracy                           0.47       150\n",
      "           macro avg       0.29      0.41      0.32       150\n",
      "        weighted avg       0.33      0.47      0.37       150\n",
      "\n",
      "Confusion Matrix:\n",
      "[[18  0  0  0  1  0  0  0  4  0]\n",
      " [ 0 17  0  0  0  0  0  0  0  0]\n",
      " [ 4  2  7  0  0  0  0  0  2  0]\n",
      " [ 4  2  0  0  2  0  0  0  3  1]\n",
      " [ 0  0  0  0 17  0  0  0  0  0]\n",
      " [ 0  3  1  0  0  0  0  0  5  0]\n",
      " [12  0  1  0  0  0  0  0  1  0]\n",
      " [ 4  0  4  0  0  0  0  0  3  2]\n",
      " [ 1  2  0  0  0  0  0  0 10  1]\n",
      " [ 2  9  2  0  0  0  0  0  1  2]]\n"
     ]
    },
    {
     "name": "stderr",
     "output_type": "stream",
     "text": [
      "C:\\Users\\rober\\AppData\\Roaming\\Python\\Python312\\site-packages\\sklearn\\metrics\\_classification.py:1565: UndefinedMetricWarning: Precision is ill-defined and being set to 0.0 in labels with no predicted samples. Use `zero_division` parameter to control this behavior.\n",
      "  _warn_prf(average, modifier, f\"{metric.capitalize()} is\", len(result))\n",
      "C:\\Users\\rober\\AppData\\Roaming\\Python\\Python312\\site-packages\\sklearn\\metrics\\_classification.py:1565: UndefinedMetricWarning: Precision is ill-defined and being set to 0.0 in labels with no predicted samples. Use `zero_division` parameter to control this behavior.\n",
      "  _warn_prf(average, modifier, f\"{metric.capitalize()} is\", len(result))\n",
      "C:\\Users\\rober\\AppData\\Roaming\\Python\\Python312\\site-packages\\sklearn\\metrics\\_classification.py:1565: UndefinedMetricWarning: Precision is ill-defined and being set to 0.0 in labels with no predicted samples. Use `zero_division` parameter to control this behavior.\n",
      "  _warn_prf(average, modifier, f\"{metric.capitalize()} is\", len(result))\n"
     ]
    }
   ],
   "source": [
    "# Train classifier on raw features:\n",
    "classifier_raw = LandUseClassifier()\n",
    "classifier_raw.train(X_train_raw, y_train)\n",
    "print(\"Raw model evaluation:\")\n",
    "classifier_raw.evaluate(X_val_raw, y_val)\n",
    "model_dir = os.path.join(\"..\", \"models\")\n",
    "if not os.path.exists(model_dir):\n",
    "    os.makedirs(model_dir)\n",
    "classifier_raw.save(os.path.join(model_dir, \"landuse_classifier_raw.pkl\"))"
   ]
  },
  {
   "cell_type": "code",
   "execution_count": 26,
   "metadata": {},
   "outputs": [
    {
     "name": "stdout",
     "output_type": "stream",
     "text": [
      "K-Means segmented model evaluation:\n",
      "Classification Report:\n",
      "                      precision    recall  f1-score   support\n",
      "\n",
      "          AnnualCrop       0.35      0.74      0.48        23\n",
      "              Forest       0.40      1.00      0.58        17\n",
      "HerbaceousVegetation       0.40      0.13      0.20        15\n",
      "             Highway       0.00      0.00      0.00        12\n",
      "          Industrial       0.64      0.82      0.72        17\n",
      "             Pasture       0.00      0.00      0.00         9\n",
      "       PermanentCrop       0.00      0.00      0.00        14\n",
      "         Residential       0.00      0.00      0.00        13\n",
      "               River       0.33      0.71      0.45        14\n",
      "             SeaLake       0.67      0.12      0.21        16\n",
      "\n",
      "            accuracy                           0.41       150\n",
      "           macro avg       0.28      0.35      0.26       150\n",
      "        weighted avg       0.31      0.41      0.30       150\n",
      "\n",
      "Confusion Matrix:\n",
      "[[17  1  0  0  2  0  0  0  3  0]\n",
      " [ 0 17  0  0  0  0  0  0  0  0]\n",
      " [ 7  2  2  0  0  0  0  0  4  0]\n",
      " [ 4  4  0  0  2  0  0  0  1  1]\n",
      " [ 3  0  0  0 14  0  0  0  0  0]\n",
      " [ 0  5  1  0  0  0  0  0  3  0]\n",
      " [10  0  0  0  2  0  0  0  2  0]\n",
      " [ 5  0  2  0  1  0  0  0  5  0]\n",
      " [ 1  3  0  0  0  0  0  0 10  0]\n",
      " [ 1 10  0  0  1  0  0  0  2  2]]\n"
     ]
    },
    {
     "name": "stderr",
     "output_type": "stream",
     "text": [
      "C:\\Users\\rober\\AppData\\Roaming\\Python\\Python312\\site-packages\\sklearn\\metrics\\_classification.py:1565: UndefinedMetricWarning: Precision is ill-defined and being set to 0.0 in labels with no predicted samples. Use `zero_division` parameter to control this behavior.\n",
      "  _warn_prf(average, modifier, f\"{metric.capitalize()} is\", len(result))\n",
      "C:\\Users\\rober\\AppData\\Roaming\\Python\\Python312\\site-packages\\sklearn\\metrics\\_classification.py:1565: UndefinedMetricWarning: Precision is ill-defined and being set to 0.0 in labels with no predicted samples. Use `zero_division` parameter to control this behavior.\n",
      "  _warn_prf(average, modifier, f\"{metric.capitalize()} is\", len(result))\n",
      "C:\\Users\\rober\\AppData\\Roaming\\Python\\Python312\\site-packages\\sklearn\\metrics\\_classification.py:1565: UndefinedMetricWarning: Precision is ill-defined and being set to 0.0 in labels with no predicted samples. Use `zero_division` parameter to control this behavior.\n",
      "  _warn_prf(average, modifier, f\"{metric.capitalize()} is\", len(result))\n"
     ]
    }
   ],
   "source": [
    "# Train classifier on k-means segmented features:\n",
    "classifier_km = LandUseClassifier()\n",
    "classifier_km.train(X_train_km, y_train)\n",
    "print(\"K-Means segmented model evaluation:\")\n",
    "classifier_km.evaluate(X_val_km, y_val)\n",
    "classifier_km.save(os.path.join(model_dir, \"landuse_classifier_kmeans.pkl\"))"
   ]
  },
  {
   "cell_type": "code",
   "execution_count": 27,
   "metadata": {},
   "outputs": [
    {
     "name": "stdout",
     "output_type": "stream",
     "text": [
      "Fuzzy C-Means segmented model evaluation:\n",
      "Classification Report:\n",
      "                      precision    recall  f1-score   support\n",
      "\n",
      "          AnnualCrop       0.36      0.74      0.49        23\n",
      "              Forest       0.40      1.00      0.57        17\n",
      "HerbaceousVegetation       0.50      0.13      0.21        15\n",
      "             Highway       0.00      0.00      0.00        12\n",
      "          Industrial       0.61      0.82      0.70        17\n",
      "             Pasture       0.00      0.00      0.00         9\n",
      "       PermanentCrop       0.00      0.00      0.00        14\n",
      "         Residential       0.00      0.00      0.00        13\n",
      "               River       0.31      0.64      0.42        14\n",
      "             SeaLake       0.67      0.12      0.21        16\n",
      "\n",
      "            accuracy                           0.41       150\n",
      "           macro avg       0.28      0.35      0.26       150\n",
      "        weighted avg       0.32      0.41      0.30       150\n",
      "\n",
      "Confusion Matrix:\n",
      "[[17  1  0  0  2  0  0  0  3  0]\n",
      " [ 0 17  0  0  0  0  0  0  0  0]\n",
      " [ 7  2  2  0  0  0  0  0  4  0]\n",
      " [ 4  4  0  0  2  0  0  0  1  1]\n",
      " [ 3  0  0  0 14  0  0  0  0  0]\n",
      " [ 0  5  0  0  0  0  0  1  3  0]\n",
      " [10  0  0  0  2  0  0  0  2  0]\n",
      " [ 4  0  2  0  2  0  0  0  5  0]\n",
      " [ 1  4  0  0  0  0  0  0  9  0]\n",
      " [ 1 10  0  0  1  0  0  0  2  2]]\n"
     ]
    },
    {
     "name": "stderr",
     "output_type": "stream",
     "text": [
      "C:\\Users\\rober\\AppData\\Roaming\\Python\\Python312\\site-packages\\sklearn\\metrics\\_classification.py:1565: UndefinedMetricWarning: Precision is ill-defined and being set to 0.0 in labels with no predicted samples. Use `zero_division` parameter to control this behavior.\n",
      "  _warn_prf(average, modifier, f\"{metric.capitalize()} is\", len(result))\n",
      "C:\\Users\\rober\\AppData\\Roaming\\Python\\Python312\\site-packages\\sklearn\\metrics\\_classification.py:1565: UndefinedMetricWarning: Precision is ill-defined and being set to 0.0 in labels with no predicted samples. Use `zero_division` parameter to control this behavior.\n",
      "  _warn_prf(average, modifier, f\"{metric.capitalize()} is\", len(result))\n",
      "C:\\Users\\rober\\AppData\\Roaming\\Python\\Python312\\site-packages\\sklearn\\metrics\\_classification.py:1565: UndefinedMetricWarning: Precision is ill-defined and being set to 0.0 in labels with no predicted samples. Use `zero_division` parameter to control this behavior.\n",
      "  _warn_prf(average, modifier, f\"{metric.capitalize()} is\", len(result))\n"
     ]
    }
   ],
   "source": [
    "# Trai# Train classifier on fuzzy C-means segmented features:\n",
    "classifier_fuzzy = LandUseClassifier()\n",
    "classifier_fuzzy.train(X_train_fuzzy, y_train)\n",
    "print(\"Fuzzy C-Means segmented model evaluation:\")\n",
    "classifier_fuzzy.evaluate(X_val_fuzzy, y_val)\n",
    "classifier_fuzzy.save(os.path.join(model_dir, \"landuse_classifier_fuzzy.pkl\"))"
   ]
  },
  {
   "cell_type": "code",
   "execution_count": 28,
   "metadata": {},
   "outputs": [
    {
     "name": "stdout",
     "output_type": "stream",
     "text": [
      "Python executable: c:\\ProgramData\\anaconda3\\python.exe\n",
      "scikit-learn version: 1.6.1\n"
     ]
    }
   ],
   "source": [
    "import sys\n",
    "import sklearn\n",
    "print(\"Python executable:\", sys.executable)\n",
    "print(\"scikit-learn version:\", sklearn.__version__)"
   ]
  },
  {
   "cell_type": "markdown",
   "metadata": {},
   "source": [
    "## Observations\n",
    "\n",
    "- The feature extraction function (mean and standard deviation of color channels) produced a feature vector of length 6.\n",
    "- The classifier (SVM) was trained on a subset of the data (50 samples) and evaluated on a validation split.\n",
    "- The classification report and confusion matrix indicate areas for improvement—particularly by increasing the sample size and possibly refining feature extraction."
   ]
  }
 ],
 "metadata": {
  "kernelspec": {
   "display_name": "base",
   "language": "python",
   "name": "python3"
  },
  "language_info": {
   "codemirror_mode": {
    "name": "ipython",
    "version": 3
   },
   "file_extension": ".py",
   "mimetype": "text/x-python",
   "name": "python",
   "nbconvert_exporter": "python",
   "pygments_lexer": "ipython3",
   "version": "3.12.3"
  }
 },
 "nbformat": 4,
 "nbformat_minor": 2
}
