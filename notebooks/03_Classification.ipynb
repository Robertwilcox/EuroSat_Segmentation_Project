{
 "cells": [
  {
   "cell_type": "code",
   "execution_count": 17,
   "metadata": {},
   "outputs": [
    {
     "name": "stdout",
     "output_type": "stream",
     "text": [
      "Project root added to sys.path: c:\\Users\\rober\\Desktop\\516FP\\EuroSat_Segmentation_Project\n"
     ]
    }
   ],
   "source": [
    "import sys\n",
    "import os\n",
    "\n",
    "# Since this notebook is in the notebooks folder, move up one level to the project root.\n",
    "project_root = os.path.abspath(os.path.join(os.getcwd(), \"..\"))\n",
    "if project_root not in sys.path:\n",
    "    sys.path.insert(0, project_root)\n",
    "print(\"Project root added to sys.path:\", project_root)\n"
   ]
  },
  {
   "cell_type": "code",
   "execution_count": 26,
   "metadata": {},
   "outputs": [
    {
     "name": "stdout",
     "output_type": "stream",
     "text": [
      "Libraries imported successfully.\n"
     ]
    }
   ],
   "source": [
    "import numpy as np\n",
    "import pandas as pd\n",
    "import matplotlib.pyplot as plt\n",
    "import cv2\n",
    "\n",
    "from sklearn.model_selection import train_test_split\n",
    "from sklearn.svm import SVC\n",
    "from sklearn.metrics import classification_report, confusion_matrix\n",
    "\n",
    "# Import classifier and feature extraction functions.\n",
    "from src.classification.classifier import (\n",
    "    extract_combined_features, \n",
    "    extract_segmented_features,\n",
    "    LandUseClassifier,\n",
    "    RobustLandUseClassifier\n",
    ")\n",
    "\n",
    "print(\"Libraries imported successfully.\")\n"
   ]
  },
  {
   "cell_type": "code",
   "execution_count": null,
   "metadata": {},
   "outputs": [],
   "source": [
    "K = 2          # Number of segments/clusters for segmentation\n",
    "M = 2          # Fuzziness parameter for fuzzy C‑means\n",
    "SAMPLE_SIZE = 10000  # Number of training images to sample (adjust as needed)"
   ]
  },
  {
   "cell_type": "code",
   "execution_count": 28,
   "metadata": {},
   "outputs": [
    {
     "name": "stdout",
     "output_type": "stream",
     "text": [
      "Train CSV columns: Index(['Filename', 'Label', 'ClassName'], dtype='object')\n",
      "Train CSV head:\n",
      "                                                Filename  Label  \\\n",
      "16257                      AnnualCrop/AnnualCrop_142.jpg      0   \n",
      "3297   HerbaceousVegetation/HerbaceousVegetation_2835...      2   \n",
      "17881               PermanentCrop/PermanentCrop_1073.jpg      6   \n",
      "2223                       Industrial/Industrial_453.jpg      4   \n",
      "4887   HerbaceousVegetation/HerbaceousVegetation_1810...      2   \n",
      "\n",
      "                  ClassName  \n",
      "16257            AnnualCrop  \n",
      "3297   HerbaceousVegetation  \n",
      "17881         PermanentCrop  \n",
      "2223             Industrial  \n",
      "4887   HerbaceousVegetation  \n"
     ]
    }
   ],
   "source": [
    "# Define the CSV directory path (relative from notebooks folder)\n",
    "csv_dir = os.path.join(\"..\", \"data\", \"raw\", \"EuroSAT\")\n",
    "train_csv_path = os.path.join(csv_dir, \"train.csv\")\n",
    "val_csv_path   = os.path.join(csv_dir, \"validation.csv\")\n",
    "test_csv_path  = os.path.join(csv_dir, \"test.csv\")\n",
    "\n",
    "# Load CSV files using pandas\n",
    "train_df = pd.read_csv(train_csv_path, index_col=0)\n",
    "val_df   = pd.read_csv(val_csv_path, index_col=0)\n",
    "test_df  = pd.read_csv(test_csv_path, index_col=0)\n",
    "\n",
    "print(\"Train CSV columns:\", train_df.columns)\n",
    "print(\"Train CSV head:\")\n",
    "print(train_df.head())"
   ]
  },
  {
   "cell_type": "code",
   "execution_count": 29,
   "metadata": {},
   "outputs": [],
   "source": [
    "def load_image(image_path):\n",
    "    \"\"\"Load an image and convert it to RGB.\"\"\"\n",
    "    img = cv2.imread(image_path)\n",
    "    if img is None:\n",
    "        print(\"Error loading image:\", image_path)\n",
    "        return None\n",
    "    return cv2.cvtColor(img, cv2.COLOR_BGR2RGB)\n",
    "\n",
    "def extract_features_raw(img_path):\n",
    "    \"\"\"Extract features from the raw (full) image.\"\"\"\n",
    "    img = load_image(img_path)\n",
    "    if img is None:\n",
    "        return None\n",
    "    return extract_combined_features(img)\n",
    "\n",
    "def extract_features_kmeans(img_path, k=K):\n",
    "    \"\"\"Extract features from the image using k-means segmentation.\"\"\"\n",
    "    img = load_image(img_path)\n",
    "    if img is None:\n",
    "        return None\n",
    "    # Use extract_segmented_features with method 'kmeans'\n",
    "    return extract_segmented_features(img, k=k, m=M, method='kmeans')\n",
    "\n",
    "def extract_features_fuzzy(img_path, k=K, m=M):\n",
    "    \"\"\"Extract features from the image using fuzzy C-means segmentation.\"\"\"\n",
    "    img = load_image(img_path)\n",
    "    if img is None:\n",
    "        return None\n",
    "    # Use extract_segmented_features with method 'fuzzy'\n",
    "    return extract_segmented_features(img, k=k, m=m, method='fuzzy')"
   ]
  },
  {
   "cell_type": "code",
   "execution_count": 30,
   "metadata": {},
   "outputs": [
    {
     "name": "stdout",
     "output_type": "stream",
     "text": [
      "Raw features shape: (1000, 16)\n",
      "K-Means features shape: (1000, 16)\n",
      "Fuzzy C-Means features shape: (1000, 16)\n",
      "Labels shape: (1000,)\n"
     ]
    }
   ],
   "source": [
    "# Sample training data (you may adjust SAMPLE_SIZE)\n",
    "sample_train = train_df.sample(n=SAMPLE_SIZE, random_state=42)\n",
    "\n",
    "X_raw = []\n",
    "X_kmeans = []\n",
    "X_fuzzy = []\n",
    "y = []\n",
    "\n",
    "for idx, row in sample_train.iterrows():\n",
    "    # \"Filename\" already contains a relative path, e.g., \"AnnualCrop/AnnualCrop_142.jpg\"\n",
    "    img_filename = row[\"Filename\"]\n",
    "    img_path = os.path.join(\"..\", \"data\", \"raw\", \"EuroSAT\", img_filename)\n",
    "    \n",
    "    features_raw = extract_features_raw(img_path)\n",
    "    features_km = extract_features_kmeans(img_path, k=K)\n",
    "    features_fuzzy = extract_features_fuzzy(img_path, k=K, m=M)\n",
    "    \n",
    "    if features_raw is not None and features_km is not None and features_fuzzy is not None:\n",
    "        X_raw.append(features_raw)\n",
    "        X_kmeans.append(features_km)\n",
    "        X_fuzzy.append(features_fuzzy)\n",
    "        y.append(row[\"ClassName\"])\n",
    "\n",
    "X_raw = np.array(X_raw)\n",
    "X_kmeans = np.array(X_kmeans)\n",
    "X_fuzzy = np.array(X_fuzzy)\n",
    "y = np.array(y)\n",
    "\n",
    "print(\"Raw features shape:\", X_raw.shape)\n",
    "print(\"K-Means features shape:\", X_kmeans.shape)\n",
    "print(\"Fuzzy C-Means features shape:\", X_fuzzy.shape)\n",
    "print(\"Labels shape:\", y.shape)"
   ]
  },
  {
   "cell_type": "code",
   "execution_count": 31,
   "metadata": {},
   "outputs": [
    {
     "name": "stdout",
     "output_type": "stream",
     "text": [
      "Training set size (raw): (700, 16)\n",
      "Validation set size (raw): (300, 16)\n"
     ]
    }
   ],
   "source": [
    "from sklearn.model_selection import train_test_split\n",
    "\n",
    "# For raw features:\n",
    "X_train_raw, X_val_raw, y_train, y_val = train_test_split(\n",
    "    X_raw, y, test_size=0.3, random_state=42, stratify=y\n",
    ")\n",
    "# For k-means segmented features:\n",
    "X_train_km, X_val_km, _, _ = train_test_split(\n",
    "    X_kmeans, y, test_size=0.3, random_state=42, stratify=y\n",
    ")\n",
    "# For fuzzy C-means segmented features:\n",
    "X_train_fuzzy, X_val_fuzzy, _, _ = train_test_split(\n",
    "    X_fuzzy, y, test_size=0.3, random_state=42, stratify=y\n",
    ")\n",
    "\n",
    "print(\"Training set size (raw):\", X_train_raw.shape)\n",
    "print(\"Validation set size (raw):\", X_val_raw.shape)"
   ]
  },
  {
   "cell_type": "code",
   "execution_count": 32,
   "metadata": {},
   "outputs": [
    {
     "name": "stdout",
     "output_type": "stream",
     "text": [
      "Raw model evaluation:\n",
      "Classification Report:\n",
      "                      precision    recall  f1-score   support\n",
      "\n",
      "          AnnualCrop       0.47      0.70      0.56        40\n",
      "              Forest       0.43      0.97      0.60        33\n",
      "HerbaceousVegetation       0.41      0.47      0.43        32\n",
      "             Highway       0.00      0.00      0.00        25\n",
      "          Industrial       0.85      0.94      0.89        31\n",
      "             Pasture       0.75      0.14      0.23        22\n",
      "       PermanentCrop       0.00      0.00      0.00        25\n",
      "         Residential       0.42      0.37      0.39        30\n",
      "               River       0.31      0.55      0.40        29\n",
      "             SeaLake       0.36      0.15      0.21        33\n",
      "\n",
      "            accuracy                           0.46       300\n",
      "           macro avg       0.40      0.43      0.37       300\n",
      "        weighted avg       0.41      0.46      0.40       300\n",
      "\n",
      "Confusion Matrix:\n",
      "[[28  1  2  0  1  0  0  3  5  0]\n",
      " [ 0 32  0  0  0  0  0  0  0  1]\n",
      " [ 5  4 15  0  1  1  0  2  3  1]\n",
      " [ 1  0  7  0  1  0  0  3 13  0]\n",
      " [ 0  0  0  0 29  0  0  2  0  0]\n",
      " [ 0  8  2  0  0  3  0  1  4  4]\n",
      " [19  0  2  0  0  0  0  1  3  0]\n",
      " [ 5  0  6  0  2  0  0 11  6  0]\n",
      " [ 2  3  2  0  0  0  0  3 16  3]\n",
      " [ 0 26  1  0  0  0  0  0  1  5]]\n"
     ]
    },
    {
     "name": "stderr",
     "output_type": "stream",
     "text": [
      "C:\\Users\\rober\\AppData\\Local\\Packages\\PythonSoftwareFoundation.Python.3.11_qbz5n2kfra8p0\\LocalCache\\local-packages\\Python311\\site-packages\\sklearn\\metrics\\_classification.py:1531: UndefinedMetricWarning: Precision is ill-defined and being set to 0.0 in labels with no predicted samples. Use `zero_division` parameter to control this behavior.\n",
      "  _warn_prf(average, modifier, f\"{metric.capitalize()} is\", len(result))\n",
      "C:\\Users\\rober\\AppData\\Local\\Packages\\PythonSoftwareFoundation.Python.3.11_qbz5n2kfra8p0\\LocalCache\\local-packages\\Python311\\site-packages\\sklearn\\metrics\\_classification.py:1531: UndefinedMetricWarning: Precision is ill-defined and being set to 0.0 in labels with no predicted samples. Use `zero_division` parameter to control this behavior.\n",
      "  _warn_prf(average, modifier, f\"{metric.capitalize()} is\", len(result))\n",
      "C:\\Users\\rober\\AppData\\Local\\Packages\\PythonSoftwareFoundation.Python.3.11_qbz5n2kfra8p0\\LocalCache\\local-packages\\Python311\\site-packages\\sklearn\\metrics\\_classification.py:1531: UndefinedMetricWarning: Precision is ill-defined and being set to 0.0 in labels with no predicted samples. Use `zero_division` parameter to control this behavior.\n",
      "  _warn_prf(average, modifier, f\"{metric.capitalize()} is\", len(result))\n"
     ]
    }
   ],
   "source": [
    "# Train classifier on raw features:\n",
    "classifier_raw = LandUseClassifier()\n",
    "classifier_raw.train(X_train_raw, y_train)\n",
    "print(\"Raw model evaluation:\")\n",
    "classifier_raw.evaluate(X_val_raw, y_val)\n",
    "model_dir = os.path.join(\"..\", \"models\")\n",
    "if not os.path.exists(model_dir):\n",
    "    os.makedirs(model_dir)\n",
    "classifier_raw.save(os.path.join(model_dir, \"landuse_classifier_raw.pkl\"))"
   ]
  },
  {
   "cell_type": "code",
   "execution_count": 33,
   "metadata": {},
   "outputs": [
    {
     "name": "stdout",
     "output_type": "stream",
     "text": [
      "K-Means segmented model evaluation:\n",
      "Classification Report:\n",
      "                      precision    recall  f1-score   support\n",
      "\n",
      "          AnnualCrop       0.41      0.60      0.49        40\n",
      "              Forest       0.38      0.94      0.54        33\n",
      "HerbaceousVegetation       0.32      0.34      0.33        32\n",
      "             Highway       0.00      0.00      0.00        25\n",
      "          Industrial       0.55      0.90      0.68        31\n",
      "             Pasture       0.00      0.00      0.00        22\n",
      "       PermanentCrop       0.00      0.00      0.00        25\n",
      "         Residential       0.36      0.27      0.31        30\n",
      "               River       0.19      0.31      0.24        29\n",
      "             SeaLake       0.33      0.06      0.10        33\n",
      "\n",
      "            accuracy                           0.38       300\n",
      "           macro avg       0.26      0.34      0.27       300\n",
      "        weighted avg       0.28      0.38      0.30       300\n",
      "\n",
      "Confusion Matrix:\n",
      "[[24  2  5  0  5  0  0  0  4  0]\n",
      " [ 0 31  0  0  0  0  0  0  1  1]\n",
      " [ 6  2 11  0  2  0  0  1  9  1]\n",
      " [ 2  2  8  0  2  0  0  3  8  0]\n",
      " [ 1  0  1  0 28  0  0  1  0  0]\n",
      " [ 0 10  0  0  2  0  0  2  7  1]\n",
      " [19  1  2  0  1  0  0  0  2  0]\n",
      " [ 4  0  4  0  8  0  0  8  6  0]\n",
      " [ 1  8  3  0  2  0  0  5  9  1]\n",
      " [ 1 26  0  0  1  0  0  2  1  2]]\n"
     ]
    },
    {
     "name": "stderr",
     "output_type": "stream",
     "text": [
      "C:\\Users\\rober\\AppData\\Local\\Packages\\PythonSoftwareFoundation.Python.3.11_qbz5n2kfra8p0\\LocalCache\\local-packages\\Python311\\site-packages\\sklearn\\metrics\\_classification.py:1531: UndefinedMetricWarning: Precision is ill-defined and being set to 0.0 in labels with no predicted samples. Use `zero_division` parameter to control this behavior.\n",
      "  _warn_prf(average, modifier, f\"{metric.capitalize()} is\", len(result))\n",
      "C:\\Users\\rober\\AppData\\Local\\Packages\\PythonSoftwareFoundation.Python.3.11_qbz5n2kfra8p0\\LocalCache\\local-packages\\Python311\\site-packages\\sklearn\\metrics\\_classification.py:1531: UndefinedMetricWarning: Precision is ill-defined and being set to 0.0 in labels with no predicted samples. Use `zero_division` parameter to control this behavior.\n",
      "  _warn_prf(average, modifier, f\"{metric.capitalize()} is\", len(result))\n",
      "C:\\Users\\rober\\AppData\\Local\\Packages\\PythonSoftwareFoundation.Python.3.11_qbz5n2kfra8p0\\LocalCache\\local-packages\\Python311\\site-packages\\sklearn\\metrics\\_classification.py:1531: UndefinedMetricWarning: Precision is ill-defined and being set to 0.0 in labels with no predicted samples. Use `zero_division` parameter to control this behavior.\n",
      "  _warn_prf(average, modifier, f\"{metric.capitalize()} is\", len(result))\n"
     ]
    }
   ],
   "source": [
    "# Train classifier on k-means segmented features:\n",
    "classifier_km = LandUseClassifier()\n",
    "classifier_km.train(X_train_km, y_train)\n",
    "print(\"K-Means segmented model evaluation:\")\n",
    "classifier_km.evaluate(X_val_km, y_val)\n",
    "classifier_km.save(os.path.join(model_dir, \"landuse_classifier_kmeans.pkl\"))"
   ]
  },
  {
   "cell_type": "code",
   "execution_count": 34,
   "metadata": {},
   "outputs": [
    {
     "name": "stdout",
     "output_type": "stream",
     "text": [
      "Fuzzy C-Means segmented model evaluation:\n",
      "Classification Report:\n",
      "                      precision    recall  f1-score   support\n",
      "\n",
      "          AnnualCrop       0.44      0.60      0.51        40\n",
      "              Forest       0.39      0.94      0.55        33\n",
      "HerbaceousVegetation       0.34      0.34      0.34        32\n",
      "             Highway       0.00      0.00      0.00        25\n",
      "          Industrial       0.54      0.94      0.68        31\n",
      "             Pasture       0.00      0.00      0.00        22\n",
      "       PermanentCrop       0.00      0.00      0.00        25\n",
      "         Residential       0.36      0.30      0.33        30\n",
      "               River       0.21      0.34      0.26        29\n",
      "             SeaLake       0.33      0.06      0.10        33\n",
      "\n",
      "            accuracy                           0.39       300\n",
      "           macro avg       0.26      0.35      0.28       300\n",
      "        weighted avg       0.29      0.39      0.30       300\n",
      "\n",
      "Confusion Matrix:\n",
      "[[24  2  5  0  5  0  0  0  4  0]\n",
      " [ 0 31  0  0  0  0  0  0  1  1]\n",
      " [ 6  2 11  0  2  0  0  1  9  1]\n",
      " [ 2  2  7  0  2  0  0  4  8  0]\n",
      " [ 0  0  0  0 29  0  0  2  0  0]\n",
      " [ 0  9  0  0  2  0  0  2  8  1]\n",
      " [18  1  2  0  2  0  0  0  2  0]\n",
      " [ 3  0  4  0  9  0  0  9  5  0]\n",
      " [ 1  7  3  0  2  0  0  5 10  1]\n",
      " [ 1 26  0  0  1  0  0  2  1  2]]\n"
     ]
    },
    {
     "name": "stderr",
     "output_type": "stream",
     "text": [
      "C:\\Users\\rober\\AppData\\Local\\Packages\\PythonSoftwareFoundation.Python.3.11_qbz5n2kfra8p0\\LocalCache\\local-packages\\Python311\\site-packages\\sklearn\\metrics\\_classification.py:1531: UndefinedMetricWarning: Precision is ill-defined and being set to 0.0 in labels with no predicted samples. Use `zero_division` parameter to control this behavior.\n",
      "  _warn_prf(average, modifier, f\"{metric.capitalize()} is\", len(result))\n",
      "C:\\Users\\rober\\AppData\\Local\\Packages\\PythonSoftwareFoundation.Python.3.11_qbz5n2kfra8p0\\LocalCache\\local-packages\\Python311\\site-packages\\sklearn\\metrics\\_classification.py:1531: UndefinedMetricWarning: Precision is ill-defined and being set to 0.0 in labels with no predicted samples. Use `zero_division` parameter to control this behavior.\n",
      "  _warn_prf(average, modifier, f\"{metric.capitalize()} is\", len(result))\n",
      "C:\\Users\\rober\\AppData\\Local\\Packages\\PythonSoftwareFoundation.Python.3.11_qbz5n2kfra8p0\\LocalCache\\local-packages\\Python311\\site-packages\\sklearn\\metrics\\_classification.py:1531: UndefinedMetricWarning: Precision is ill-defined and being set to 0.0 in labels with no predicted samples. Use `zero_division` parameter to control this behavior.\n",
      "  _warn_prf(average, modifier, f\"{metric.capitalize()} is\", len(result))\n"
     ]
    }
   ],
   "source": [
    "# Trai# Train classifier on fuzzy C-means segmented features:\n",
    "classifier_fuzzy = LandUseClassifier()\n",
    "classifier_fuzzy.train(X_train_fuzzy, y_train)\n",
    "print(\"Fuzzy C-Means segmented model evaluation:\")\n",
    "classifier_fuzzy.evaluate(X_val_fuzzy, y_val)\n",
    "classifier_fuzzy.save(os.path.join(model_dir, \"landuse_classifier_fuzzy.pkl\"))"
   ]
  },
  {
   "cell_type": "code",
   "execution_count": 35,
   "metadata": {},
   "outputs": [
    {
     "name": "stdout",
     "output_type": "stream",
     "text": [
      "Python executable: C:\\Users\\rober\\AppData\\Local\\Microsoft\\WindowsApps\\PythonSoftwareFoundation.Python.3.11_qbz5n2kfra8p0\\python.exe\n",
      "scikit-learn version: 1.5.2\n"
     ]
    }
   ],
   "source": [
    "import sys\n",
    "import sklearn\n",
    "print(\"Python executable:\", sys.executable)\n",
    "print(\"scikit-learn version:\", sklearn.__version__)"
   ]
  },
  {
   "cell_type": "markdown",
   "metadata": {},
   "source": [
    "## Observations\n",
    "\n",
    "- The feature extraction function (mean and standard deviation of color channels) produced a feature vector of length 6.\n",
    "- The classifier (SVM) was trained on a subset of the data (50 samples) and evaluated on a validation split.\n",
    "- The classification report and confusion matrix indicate areas for improvement—particularly by increasing the sample size and possibly refining feature extraction."
   ]
  }
 ],
 "metadata": {
  "kernelspec": {
   "display_name": "Python 3",
   "language": "python",
   "name": "python3"
  },
  "language_info": {
   "codemirror_mode": {
    "name": "ipython",
    "version": 3
   },
   "file_extension": ".py",
   "mimetype": "text/x-python",
   "name": "python",
   "nbconvert_exporter": "python",
   "pygments_lexer": "ipython3",
   "version": "3.11.9"
  }
 },
 "nbformat": 4,
 "nbformat_minor": 2
}
