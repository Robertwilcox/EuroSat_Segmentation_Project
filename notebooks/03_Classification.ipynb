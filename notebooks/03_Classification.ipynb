{
 "cells": [
  {
   "cell_type": "code",
   "execution_count": 14,
   "metadata": {},
   "outputs": [
    {
     "name": "stdout",
     "output_type": "stream",
     "text": [
      "Project root added to sys.path: c:\\Users\\rober\\OneDrive\\Desktop\\516_fp\\EuroSat_Segmentation_Project\n"
     ]
    }
   ],
   "source": [
    "import sys\n",
    "import os\n",
    "\n",
    "# Since this notebook is in the \"notebooks\" folder, move one level up to the project root.\n",
    "project_root = os.path.abspath(os.path.join(os.getcwd(), \"..\"))\n",
    "if project_root not in sys.path:\n",
    "    sys.path.insert(0, project_root)\n",
    "print(\"Project root added to sys.path:\", project_root)\n"
   ]
  },
  {
   "cell_type": "code",
   "execution_count": 15,
   "metadata": {},
   "outputs": [
    {
     "name": "stdout",
     "output_type": "stream",
     "text": [
      "Libraries imported successfully.\n"
     ]
    }
   ],
   "source": [
    "import numpy as np\n",
    "import pandas as pd\n",
    "import matplotlib.pyplot as plt\n",
    "import cv2\n",
    "\n",
    "from sklearn.model_selection import train_test_split\n",
    "from sklearn.svm import SVC\n",
    "from sklearn.metrics import classification_report, confusion_matrix\n",
    "\n",
    "print(\"Libraries imported successfully.\")\n"
   ]
  },
  {
   "cell_type": "code",
   "execution_count": 16,
   "metadata": {},
   "outputs": [
    {
     "name": "stdout",
     "output_type": "stream",
     "text": [
      "Extracted features from sample image: [38.90722656 61.08911133 77.5871582   3.355148    3.71837164  2.44474507]\n"
     ]
    }
   ],
   "source": [
    "def extract_color_features(image):\n",
    "    \"\"\"\n",
    "    Extract simple color features from an image.\n",
    "    Computes the mean and standard deviation for each channel.\n",
    "    \n",
    "    Parameters:\n",
    "      image: numpy array of shape (H, W, C)\n",
    "    \n",
    "    Returns:\n",
    "      features: 1D numpy array containing the means and standard deviations.\n",
    "    \"\"\"\n",
    "    means = np.mean(image, axis=(0, 1))\n",
    "    stds = np.std(image, axis=(0, 1))\n",
    "    return np.concatenate([means, stds])\n",
    "\n",
    "# Test the feature extraction on a sample image.\n",
    "sample_img_path = os.path.join(\"..\", \"data\", \"raw\", \"EuroSAT\", \"Forest\", \"Forest_1.jpg\")\n",
    "sample_img = cv2.imread(sample_img_path)\n",
    "if sample_img is not None:\n",
    "    sample_img = cv2.cvtColor(sample_img, cv2.COLOR_BGR2RGB)\n",
    "    features = extract_color_features(sample_img)\n",
    "    print(\"Extracted features from sample image:\", features)\n",
    "else:\n",
    "    print(\"Sample image not found. Please check the file path.\")\n"
   ]
  },
  {
   "cell_type": "code",
   "execution_count": 17,
   "metadata": {},
   "outputs": [
    {
     "name": "stdout",
     "output_type": "stream",
     "text": [
      "Train CSV columns: Index(['Filename', 'Label', 'ClassName'], dtype='object')\n",
      "Train CSV head:\n",
      "                                                Filename  Label  \\\n",
      "16257                      AnnualCrop/AnnualCrop_142.jpg      0   \n",
      "3297   HerbaceousVegetation/HerbaceousVegetation_2835...      2   \n",
      "17881               PermanentCrop/PermanentCrop_1073.jpg      6   \n",
      "2223                       Industrial/Industrial_453.jpg      4   \n",
      "4887   HerbaceousVegetation/HerbaceousVegetation_1810...      2   \n",
      "\n",
      "                  ClassName  \n",
      "16257            AnnualCrop  \n",
      "3297   HerbaceousVegetation  \n",
      "17881         PermanentCrop  \n",
      "2223             Industrial  \n",
      "4887   HerbaceousVegetation  \n"
     ]
    }
   ],
   "source": [
    "# Define CSV directory (adjust the relative path)\n",
    "csv_dir = os.path.join(\"..\", \"data\", \"raw\", \"EuroSAT\")\n",
    "train_csv_path = os.path.join(csv_dir, \"train.csv\")\n",
    "val_csv_path   = os.path.join(csv_dir, \"validation.csv\")\n",
    "test_csv_path  = os.path.join(csv_dir, \"test.csv\")\n",
    "\n",
    "# Load CSV files; we use index_col=0 if an index column exists.\n",
    "train_df = pd.read_csv(train_csv_path, index_col=0)\n",
    "val_df   = pd.read_csv(val_csv_path, index_col=0)\n",
    "test_df  = pd.read_csv(test_csv_path, index_col=0)\n",
    "\n",
    "print(\"Train CSV columns:\", train_df.columns)\n",
    "print(\"Train CSV head:\")\n",
    "print(train_df.head())\n"
   ]
  },
  {
   "cell_type": "code",
   "execution_count": 19,
   "metadata": {},
   "outputs": [
    {
     "name": "stdout",
     "output_type": "stream",
     "text": [
      "Feature matrix shape: (10, 6)\n",
      "Labels shape: (10,)\n"
     ]
    }
   ],
   "source": [
    "def load_image_and_extract_features(img_path):\n",
    "    img = cv2.imread(img_path)\n",
    "    if img is None:\n",
    "        print(f\"Error loading image: {img_path}\")\n",
    "        return None\n",
    "    img = cv2.cvtColor(img, cv2.COLOR_BGR2RGB)\n",
    "    return extract_color_features(img)\n",
    "\n",
    "# Process a small subset for demonstration.\n",
    "sample_train = train_df.head(10)  # Change to a larger sample later\n",
    "\n",
    "X = []\n",
    "y = []\n",
    "for idx, row in sample_train.iterrows():\n",
    "    # The \"Filename\" column already contains the relative path, e.g., \"AnnualCrop/AnnualCrop_142.jpg\"\n",
    "    img_filename = row[\"Filename\"]\n",
    "    img_path = os.path.join(\"..\", \"data\", \"raw\", \"EuroSAT\", img_filename)\n",
    "    features = load_image_and_extract_features(img_path)\n",
    "    if features is not None:\n",
    "        X.append(features)\n",
    "        y.append(row[\"ClassName\"])  # Use \"ClassName\" as the label\n",
    "\n",
    "X = np.array(X)\n",
    "y = np.array(y)\n",
    "\n",
    "print(\"Feature matrix shape:\", X.shape)\n",
    "print(\"Labels shape:\", y.shape)\n"
   ]
  },
  {
   "cell_type": "code",
   "execution_count": 20,
   "metadata": {},
   "outputs": [
    {
     "name": "stdout",
     "output_type": "stream",
     "text": [
      "Classification Report on Validation Set:\n",
      "                      precision    recall  f1-score   support\n",
      "\n",
      "HerbaceousVegetation       0.00      0.00      0.00       1.0\n",
      "             Highway       0.00      0.00      0.00       1.0\n",
      "          Industrial       0.00      0.00      0.00       0.0\n",
      "             Pasture       0.00      0.00      0.00       1.0\n",
      "\n",
      "            accuracy                           0.00       3.0\n",
      "           macro avg       0.00      0.00      0.00       3.0\n",
      "        weighted avg       0.00      0.00      0.00       3.0\n",
      "\n",
      "Confusion Matrix:\n",
      "[[0 0 1 0]\n",
      " [0 0 1 0]\n",
      " [0 0 0 0]\n",
      " [0 0 1 0]]\n"
     ]
    },
    {
     "name": "stderr",
     "output_type": "stream",
     "text": [
      "c:\\ProgramData\\anaconda3\\Lib\\site-packages\\sklearn\\metrics\\_classification.py:1509: UndefinedMetricWarning: Precision is ill-defined and being set to 0.0 in labels with no predicted samples. Use `zero_division` parameter to control this behavior.\n",
      "  _warn_prf(average, modifier, f\"{metric.capitalize()} is\", len(result))\n",
      "c:\\ProgramData\\anaconda3\\Lib\\site-packages\\sklearn\\metrics\\_classification.py:1509: UndefinedMetricWarning: Recall is ill-defined and being set to 0.0 in labels with no true samples. Use `zero_division` parameter to control this behavior.\n",
      "  _warn_prf(average, modifier, f\"{metric.capitalize()} is\", len(result))\n",
      "c:\\ProgramData\\anaconda3\\Lib\\site-packages\\sklearn\\metrics\\_classification.py:1509: UndefinedMetricWarning: Precision is ill-defined and being set to 0.0 in labels with no predicted samples. Use `zero_division` parameter to control this behavior.\n",
      "  _warn_prf(average, modifier, f\"{metric.capitalize()} is\", len(result))\n",
      "c:\\ProgramData\\anaconda3\\Lib\\site-packages\\sklearn\\metrics\\_classification.py:1509: UndefinedMetricWarning: Recall is ill-defined and being set to 0.0 in labels with no true samples. Use `zero_division` parameter to control this behavior.\n",
      "  _warn_prf(average, modifier, f\"{metric.capitalize()} is\", len(result))\n",
      "c:\\ProgramData\\anaconda3\\Lib\\site-packages\\sklearn\\metrics\\_classification.py:1509: UndefinedMetricWarning: Precision is ill-defined and being set to 0.0 in labels with no predicted samples. Use `zero_division` parameter to control this behavior.\n",
      "  _warn_prf(average, modifier, f\"{metric.capitalize()} is\", len(result))\n",
      "c:\\ProgramData\\anaconda3\\Lib\\site-packages\\sklearn\\metrics\\_classification.py:1509: UndefinedMetricWarning: Recall is ill-defined and being set to 0.0 in labels with no true samples. Use `zero_division` parameter to control this behavior.\n",
      "  _warn_prf(average, modifier, f\"{metric.capitalize()} is\", len(result))\n"
     ]
    }
   ],
   "source": [
    "# Split the dataset into training and validation sets.\n",
    "X_train, X_val, y_train, y_val = train_test_split(X, y, test_size=0.3, random_state=42)\n",
    "\n",
    "# Create and train an SVM classifier with probability estimates.\n",
    "clf = SVC(probability=True, random_state=42)\n",
    "clf.fit(X_train, y_train)\n",
    "\n",
    "# Evaluate the classifier on the validation set.\n",
    "y_pred = clf.predict(X_val)\n",
    "print(\"Classification Report on Validation Set:\")\n",
    "print(classification_report(y_val, y_pred))\n",
    "print(\"Confusion Matrix:\")\n",
    "print(confusion_matrix(y_val, y_pred))\n"
   ]
  },
  {
   "cell_type": "code",
   "execution_count": 22,
   "metadata": {},
   "outputs": [
    {
     "name": "stdout",
     "output_type": "stream",
     "text": [
      "Converged in 7 iterations.\n",
      "Top 2 predicted land-use classes for the test image: ['Industrial' 'PermanentCrop']\n"
     ]
    },
    {
     "data": {
      "image/png": "[encoded data removed]",
      "text/plain": [
       "<Figure size 800x800 with 1 Axes>"
      ]
     },
     "metadata": {},
     "output_type": "display_data"
    }
   ],
   "source": [
    "# Define the data directory for EuroSAT\n",
    "data_dir = os.path.join(\"..\", \"data\", \"raw\", \"EuroSAT\")\n",
    "\n",
    "# Choose a test image from the \"Forest\" class (adjust filename if necessary)\n",
    "test_img_path = os.path.join(data_dir, \"AnnualCrop\", \"AnnualCrop_10.jpg\")\n",
    "test_image = cv2.imread(test_img_path)\n",
    "if test_image is None:\n",
    "    print(\"Test image not found. Check the file path!\")\n",
    "else:\n",
    "    test_image = cv2.cvtColor(test_image, cv2.COLOR_BGR2RGB)\n",
    "    \n",
    "    # Import segmentation function; using K-Means for this example.\n",
    "    from src.segmentation.kmeans import kmeans_segmentation\n",
    "    \n",
    "    k = 5  # Number of clusters for segmentation.\n",
    "    labels, centroids = kmeans_segmentation(test_image, k)\n",
    "    segmented_image = centroids[labels]\n",
    "    \n",
    "    # For each cluster, extract features from the corresponding segmented region.\n",
    "    features_per_cluster = []\n",
    "    for i in range(k):\n",
    "        mask = (labels == i)\n",
    "        if np.sum(mask) == 0:\n",
    "            continue\n",
    "        # Create a masked version of the image where pixels not in the cluster are set to zero.\n",
    "        cluster_region = test_image.copy()\n",
    "        cluster_region[~mask] = 0\n",
    "        features = extract_color_features(cluster_region)\n",
    "        features_per_cluster.append(features)\n",
    "    \n",
    "    features_per_cluster = np.array(features_per_cluster)\n",
    "    \n",
    "    if features_per_cluster.size > 0:\n",
    "        # Predict class probabilities for each segment.\n",
    "        predictions = clf.predict_proba(features_per_cluster)\n",
    "        # Average the probabilities across segments.\n",
    "        avg_probabilities = np.mean(predictions, axis=0)\n",
    "        # Get the top two predicted classes.\n",
    "        top_indices = np.argsort(avg_probabilities)[-2:][::-1]\n",
    "        top_classes = clf.classes_[top_indices]\n",
    "        print(\"Top 2 predicted land-use classes for the test image:\", top_classes)\n",
    "    else:\n",
    "        print(\"No segments detected for feature extraction.\")\n",
    "    \n",
    "    # Visualize the segmented image.\n",
    "    plt.figure(figsize=(8,8))\n",
    "    plt.imshow(segmented_image.astype(np.uint8))\n",
    "    plt.title(\"Segmented Image (K-Means)\")\n",
    "    plt.axis(\"off\")\n",
    "    plt.show()\n"
   ]
  },
  {
   "cell_type": "markdown",
   "metadata": {},
   "source": [
    "## Observations\n",
    "\n",
    "- The classifier was trained on simple color features (mean and standard deviation per channel).\n",
    "- The SVM classifier shows reasonable performance on a small subset of training data (see classification report above).\n",
    "- The integrated pipeline:\n",
    "  - Segments the test image using K-Means.\n",
    "  - Extracts features from each segmented region.\n",
    "  - Aggregates predictions to output the top two predicted land-use classes for the image.\n",
    "- Future improvements could include:\n",
    "  - Enhancing feature extraction with additional descriptors (texture, shape, etc.).\n",
    "  - Training on a larger dataset for better performance.\n",
    "  - Integrating fuzzy C-Means segmentation for comparison.\n",
    "  - Refining the aggregation strategy for segment predictions.\n"
   ]
  }
 ],
 "metadata": {
  "kernelspec": {
   "display_name": "base",
   "language": "python",
   "name": "python3"
  },
  "language_info": {
   "codemirror_mode": {
    "name": "ipython",
    "version": 3
   },
   "file_extension": ".py",
   "mimetype": "text/x-python",
   "name": "python",
   "nbconvert_exporter": "python",
   "pygments_lexer": "ipython3",
   "version": "3.12.3"
  }
 },
 "nbformat": 4,
 "nbformat_minor": 2
}
