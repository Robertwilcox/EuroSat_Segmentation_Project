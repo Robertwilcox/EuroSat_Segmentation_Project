{
 "cells": [
  {
   "cell_type": "code",
   "execution_count": 1,
   "metadata": {},
   "outputs": [
    {
     "name": "stdout",
     "output_type": "stream",
     "text": [
      "Project root added to sys.path: c:\\Users\\rober\\OneDrive\\Desktop\\516_fp\\EuroSat_Segmentation_Project\n"
     ]
    }
   ],
   "source": [
    "import sys\n",
    "import os\n",
    "\n",
    "# Since this notebook is in the notebooks folder, move up one level to the project root.\n",
    "project_root = os.path.abspath(os.path.join(os.getcwd(), \"..\"))\n",
    "if project_root not in sys.path:\n",
    "    sys.path.insert(0, project_root)\n",
    "print(\"Project root added to sys.path:\", project_root)\n"
   ]
  },
  {
   "cell_type": "code",
   "execution_count": null,
   "metadata": {},
   "outputs": [
    {
     "ename": "SyntaxError",
     "evalue": "invalid syntax (3196057450.py, line 11)",
     "output_type": "error",
     "traceback": [
      "\u001b[1;36m  Cell \u001b[1;32mIn[2], line 11\u001b[1;36m\u001b[0m\n\u001b[1;33m    from src.classification.classifier import extract_color_features, extract_combined_features, LandUseClassifier, RobustLandUseClassifier()\u001b[0m\n\u001b[1;37m                                                                                                                                           ^\u001b[0m\n\u001b[1;31mSyntaxError\u001b[0m\u001b[1;31m:\u001b[0m invalid syntax\n"
     ]
    }
   ],
   "source": [
    "import numpy as np\n",
    "import pandas as pd\n",
    "import matplotlib.pyplot as plt\n",
    "import cv2\n",
    "\n",
    "from sklearn.model_selection import train_test_split\n",
    "from sklearn.svm import SVC\n",
    "from sklearn.metrics import classification_report, confusion_matrix\n",
    "\n",
    "# Import the classifier module (if needed, for later use)\n",
    "from src.classification.classifier import extract_color_features, extract_combined_features, LandUseClassifier, RobustLandUseClassifier\n",
    "\n",
    "print(\"Libraries imported successfully.\")\n"
   ]
  },
  {
   "cell_type": "code",
   "execution_count": null,
   "metadata": {},
   "outputs": [
    {
     "name": "stdout",
     "output_type": "stream",
     "text": [
      "Extracted features from sample image: [3.89072266e+01 6.10891113e+01 7.75871582e+01 3.35514800e+00\n",
      " 3.71837164e+00 2.44474507e+00 5.73730469e-02 8.49609375e-02\n",
      " 4.93164062e-02 1.03515625e-01 8.74023438e-02 1.18408203e-01\n",
      " 8.42285156e-02 9.81445312e-02 1.39160156e-01 1.77490234e-01]\n"
     ]
    }
   ],
   "source": [
    "# Test feature extraction on a sample image.\n",
    "sample_img_path = os.path.join(\"..\", \"data\", \"raw\", \"EuroSAT\", \"Forest\", \"Forest_1.jpg\")\n",
    "sample_img = cv2.imread(sample_img_path)\n",
    "if sample_img is not None:\n",
    "    sample_img = cv2.cvtColor(sample_img, cv2.COLOR_BGR2RGB)\n",
    "    features = extract_combined_features(sample_img)\n",
    "    print(\"Extracted features from sample image:\", features)\n",
    "else:\n",
    "    print(\"Sample image not found. Check the file path.\")\n"
   ]
  },
  {
   "cell_type": "code",
   "execution_count": null,
   "metadata": {},
   "outputs": [
    {
     "name": "stdout",
     "output_type": "stream",
     "text": [
      "Train CSV columns: Index(['Filename', 'Label', 'ClassName'], dtype='object')\n",
      "Train CSV head:\n",
      "                                                Filename  Label  \\\n",
      "16257                      AnnualCrop/AnnualCrop_142.jpg      0   \n",
      "3297   HerbaceousVegetation/HerbaceousVegetation_2835...      2   \n",
      "17881               PermanentCrop/PermanentCrop_1073.jpg      6   \n",
      "2223                       Industrial/Industrial_453.jpg      4   \n",
      "4887   HerbaceousVegetation/HerbaceousVegetation_1810...      2   \n",
      "\n",
      "                  ClassName  \n",
      "16257            AnnualCrop  \n",
      "3297   HerbaceousVegetation  \n",
      "17881         PermanentCrop  \n",
      "2223             Industrial  \n",
      "4887   HerbaceousVegetation  \n"
     ]
    }
   ],
   "source": [
    "# Define the CSV directory path (relative from notebooks folder)\n",
    "csv_dir = os.path.join(\"..\", \"data\", \"raw\", \"EuroSAT\")\n",
    "train_csv_path = os.path.join(csv_dir, \"train.csv\")\n",
    "val_csv_path   = os.path.join(csv_dir, \"validation.csv\")\n",
    "test_csv_path  = os.path.join(csv_dir, \"test.csv\")\n",
    "\n",
    "# Load CSV files using pandas\n",
    "train_df = pd.read_csv(train_csv_path, index_col=0)\n",
    "val_df   = pd.read_csv(val_csv_path, index_col=0)\n",
    "test_df  = pd.read_csv(test_csv_path, index_col=0)\n",
    "\n",
    "print(\"Train CSV columns:\", train_df.columns)\n",
    "print(\"Train CSV head:\")\n",
    "print(train_df.head())\n"
   ]
  },
  {
   "cell_type": "code",
   "execution_count": null,
   "metadata": {},
   "outputs": [
    {
     "name": "stdout",
     "output_type": "stream",
     "text": [
      "Feature matrix shape: (5000, 16)\n",
      "Labels shape: (5000,)\n"
     ]
    }
   ],
   "source": [
    "def load_image_and_extract_features(img_path):\n",
    "    img = cv2.imread(img_path)\n",
    "    if img is None:\n",
    "        print(f\"Error loading image: {img_path}\")\n",
    "        return None\n",
    "    img = cv2.cvtColor(img, cv2.COLOR_BGR2RGB)\n",
    "    return extract_combined_features(img)\n",
    "\n",
    "# Process a larger subset of the training data.\n",
    "# Instead of using head(50), we randomly sample 200 rows.\n",
    "sample_train = train_df.sample(n=5000, random_state=42)\n",
    "\n",
    "X = []\n",
    "y = []\n",
    "for idx, row in sample_train.iterrows():\n",
    "    # \"Filename\" already contains a relative path, e.g., \"AnnualCrop/AnnualCrop_142.jpg\"\n",
    "    img_filename = row[\"Filename\"]\n",
    "    img_path = os.path.join(\"..\", \"data\", \"raw\", \"EuroSAT\", img_filename)\n",
    "    features = load_image_and_extract_features(img_path)\n",
    "    if features is not None:\n",
    "        X.append(features)\n",
    "        y.append(row[\"ClassName\"])  # Using ClassName as the label\n",
    "\n",
    "X = np.array(X)\n",
    "y = np.array(y)\n",
    "\n",
    "print(\"Feature matrix shape:\", X.shape)\n",
    "print(\"Labels shape:\", y.shape)\n"
   ]
  },
  {
   "cell_type": "code",
   "execution_count": null,
   "metadata": {},
   "outputs": [
    {
     "ename": "NameError",
     "evalue": "name 'RobustLandUseClassifier' is not defined",
     "output_type": "error",
     "traceback": [
      "\u001b[1;31m---------------------------------------------------------------------------\u001b[0m",
      "\u001b[1;31mNameError\u001b[0m                                 Traceback (most recent call last)",
      "Cell \u001b[1;32mIn[35], line 5\u001b[0m\n\u001b[0;32m      2\u001b[0m X_train, X_val, y_train, y_val \u001b[38;5;241m=\u001b[39m train_test_split(X, y, test_size\u001b[38;5;241m=\u001b[39m\u001b[38;5;241m0.3\u001b[39m, random_state\u001b[38;5;241m=\u001b[39m\u001b[38;5;241m42\u001b[39m, stratify\u001b[38;5;241m=\u001b[39my)\n\u001b[0;32m      4\u001b[0m \u001b[38;5;66;03m# Create an instance of the classifier and train it.\u001b[39;00m\n\u001b[1;32m----> 5\u001b[0m classifier \u001b[38;5;241m=\u001b[39m RobustLandUseClassifier()\n\u001b[0;32m      6\u001b[0m classifier\u001b[38;5;241m.\u001b[39mtrain(X_train, y_train)\n\u001b[0;32m      8\u001b[0m \u001b[38;5;66;03m# Evaluate the classifier on the validation set.\u001b[39;00m\n",
      "\u001b[1;31mNameError\u001b[0m: name 'RobustLandUseClassifier' is not defined"
     ]
    }
   ],
   "source": [
    "# Split the data into training and validation sets.\n",
    "X_train, X_val, y_train, y_val = train_test_split(X, y, test_size=0.3, random_state=42, stratify=y)\n",
    "\n",
    "# Create an instance of the classifier and train it.\n",
    "classifier = RobustLandUseClassifier()\n",
    "classifier.train(X_train, y_train)\n",
    "\n",
    "# Evaluate the classifier on the validation set.\n",
    "print(\"Validation Set Evaluation:\")\n",
    "classifier.evaluate(X_val, y_val)\n"
   ]
  },
  {
   "cell_type": "code",
   "execution_count": null,
   "metadata": {},
   "outputs": [
    {
     "name": "stdout",
     "output_type": "stream",
     "text": [
      "Classifier saved to ..\\models\\landuse_classifier.pkl\n"
     ]
    }
   ],
   "source": [
    "# Save the classifier to the models folder at the project root.\n",
    "model_dir = os.path.join(\"..\", \"models\")\n",
    "if not os.path.exists(model_dir):\n",
    "    os.makedirs(model_dir)\n",
    "model_path = os.path.join(model_dir, \"landuse_classifier.pkl\")\n",
    "classifier.save(model_path)\n",
    "print(\"Classifier saved to\", model_path)\n"
   ]
  },
  {
   "cell_type": "code",
   "execution_count": null,
   "metadata": {},
   "outputs": [
    {
     "name": "stdout",
     "output_type": "stream",
     "text": [
      "Python executable: c:\\ProgramData\\anaconda3\\python.exe\n",
      "scikit-learn version: 1.6.1\n"
     ]
    }
   ],
   "source": [
    "import sys\n",
    "import sklearn\n",
    "print(\"Python executable:\", sys.executable)\n",
    "print(\"scikit-learn version:\", sklearn.__version__)\n"
   ]
  },
  {
   "cell_type": "markdown",
   "metadata": {},
   "source": [
    "## Observations\n",
    "\n",
    "- The feature extraction function (mean and standard deviation of color channels) produced a feature vector of length 6.\n",
    "- The classifier (SVM) was trained on a subset of the data (50 samples) and evaluated on a validation split.\n",
    "- The classification report and confusion matrix indicate areas for improvement—particularly by increasing the sample size and possibly refining feature extraction."
   ]
  }
 ],
 "metadata": {
  "kernelspec": {
   "display_name": "base",
   "language": "python",
   "name": "python3"
  },
  "language_info": {
   "codemirror_mode": {
    "name": "ipython",
    "version": 3
   },
   "file_extension": ".py",
   "mimetype": "text/x-python",
   "name": "python",
   "nbconvert_exporter": "python",
   "pygments_lexer": "ipython3",
   "version": "3.12.3"
  }
 },
 "nbformat": 4,
 "nbformat_minor": 2
}
