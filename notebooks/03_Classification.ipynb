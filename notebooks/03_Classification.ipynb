{
 "cells": [
  {
   "cell_type": "code",
   "execution_count": 2,
   "metadata": {},
   "outputs": [
    {
     "name": "stdout",
     "output_type": "stream",
     "text": [
      "Project root added to sys.path: c:\\Users\\rober\\OneDrive\\Desktop\\516_fp\\EuroSat_Segmentation_Project\n"
     ]
    }
   ],
   "source": [
    "import sys\n",
    "import os\n",
    "\n",
    "# Since this notebook is in the notebooks folder, move up one level to the project root.\n",
    "project_root = os.path.abspath(os.path.join(os.getcwd(), \"..\"))\n",
    "if project_root not in sys.path:\n",
    "    sys.path.insert(0, project_root)\n",
    "print(\"Project root added to sys.path:\", project_root)\n"
   ]
  },
  {
   "cell_type": "code",
   "execution_count": 3,
   "metadata": {},
   "outputs": [
    {
     "name": "stdout",
     "output_type": "stream",
     "text": [
      "Libraries imported successfully.\n"
     ]
    }
   ],
   "source": [
    "import numpy as np\n",
    "import pandas as pd\n",
    "import matplotlib.pyplot as plt\n",
    "import cv2\n",
    "\n",
    "from sklearn.model_selection import train_test_split\n",
    "from sklearn.svm import SVC\n",
    "from sklearn.metrics import classification_report, confusion_matrix\n",
    "\n",
    "# Import the classifier module (if needed, for later use)\n",
    "from src.classification.classifier import extract_color_features, LandUseClassifier\n",
    "\n",
    "print(\"Libraries imported successfully.\")\n"
   ]
  },
  {
   "cell_type": "code",
   "execution_count": 4,
   "metadata": {},
   "outputs": [
    {
     "name": "stdout",
     "output_type": "stream",
     "text": [
      "Extracted features from sample image: [38.90722656 61.08911133 77.5871582   3.355148    3.71837164  2.44474507]\n"
     ]
    }
   ],
   "source": [
    "# Test feature extraction on a sample image.\n",
    "sample_img_path = os.path.join(\"..\", \"data\", \"raw\", \"EuroSAT\", \"Forest\", \"Forest_1.jpg\")\n",
    "sample_img = cv2.imread(sample_img_path)\n",
    "if sample_img is not None:\n",
    "    sample_img = cv2.cvtColor(sample_img, cv2.COLOR_BGR2RGB)\n",
    "    features = extract_color_features(sample_img)\n",
    "    print(\"Extracted features from sample image:\", features)\n",
    "else:\n",
    "    print(\"Sample image not found. Check the file path.\")\n"
   ]
  },
  {
   "cell_type": "code",
   "execution_count": 5,
   "metadata": {},
   "outputs": [
    {
     "name": "stdout",
     "output_type": "stream",
     "text": [
      "Train CSV columns: Index(['Filename', 'Label', 'ClassName'], dtype='object')\n",
      "Train CSV head:\n",
      "                                                Filename  Label  \\\n",
      "16257                      AnnualCrop/AnnualCrop_142.jpg      0   \n",
      "3297   HerbaceousVegetation/HerbaceousVegetation_2835...      2   \n",
      "17881               PermanentCrop/PermanentCrop_1073.jpg      6   \n",
      "2223                       Industrial/Industrial_453.jpg      4   \n",
      "4887   HerbaceousVegetation/HerbaceousVegetation_1810...      2   \n",
      "\n",
      "                  ClassName  \n",
      "16257            AnnualCrop  \n",
      "3297   HerbaceousVegetation  \n",
      "17881         PermanentCrop  \n",
      "2223             Industrial  \n",
      "4887   HerbaceousVegetation  \n"
     ]
    }
   ],
   "source": [
    "# Define the CSV directory path (relative from notebooks folder)\n",
    "csv_dir = os.path.join(\"..\", \"data\", \"raw\", \"EuroSAT\")\n",
    "train_csv_path = os.path.join(csv_dir, \"train.csv\")\n",
    "val_csv_path   = os.path.join(csv_dir, \"validation.csv\")\n",
    "test_csv_path  = os.path.join(csv_dir, \"test.csv\")\n",
    "\n",
    "# Load CSV files using pandas\n",
    "train_df = pd.read_csv(train_csv_path, index_col=0)\n",
    "val_df   = pd.read_csv(val_csv_path, index_col=0)\n",
    "test_df  = pd.read_csv(test_csv_path, index_col=0)\n",
    "\n",
    "print(\"Train CSV columns:\", train_df.columns)\n",
    "print(\"Train CSV head:\")\n",
    "print(train_df.head())\n"
   ]
  },
  {
   "cell_type": "code",
   "execution_count": 6,
   "metadata": {},
   "outputs": [
    {
     "name": "stdout",
     "output_type": "stream",
     "text": [
      "Feature matrix shape: (200, 6)\n",
      "Labels shape: (200,)\n"
     ]
    }
   ],
   "source": [
    "def load_image_and_extract_features(img_path):\n",
    "    img = cv2.imread(img_path)\n",
    "    if img is None:\n",
    "        print(f\"Error loading image: {img_path}\")\n",
    "        return None\n",
    "    img = cv2.cvtColor(img, cv2.COLOR_BGR2RGB)\n",
    "    return extract_color_features(img)\n",
    "\n",
    "# Process a larger subset of the training data.\n",
    "# Instead of using head(50), we randomly sample 200 rows.\n",
    "sample_train = train_df.sample(n=200, random_state=42)\n",
    "\n",
    "X = []\n",
    "y = []\n",
    "for idx, row in sample_train.iterrows():\n",
    "    # \"Filename\" already contains a relative path, e.g., \"AnnualCrop/AnnualCrop_142.jpg\"\n",
    "    img_filename = row[\"Filename\"]\n",
    "    img_path = os.path.join(\"..\", \"data\", \"raw\", \"EuroSAT\", img_filename)\n",
    "    features = load_image_and_extract_features(img_path)\n",
    "    if features is not None:\n",
    "        X.append(features)\n",
    "        y.append(row[\"ClassName\"])  # Using ClassName as the label\n",
    "\n",
    "X = np.array(X)\n",
    "y = np.array(y)\n",
    "\n",
    "print(\"Feature matrix shape:\", X.shape)\n",
    "print(\"Labels shape:\", y.shape)\n"
   ]
  },
  {
   "cell_type": "code",
   "execution_count": 7,
   "metadata": {},
   "outputs": [
    {
     "name": "stdout",
     "output_type": "stream",
     "text": [
      "Validation Set Evaluation:\n",
      "Classification Report:\n",
      "                      precision    recall  f1-score   support\n",
      "\n",
      "          AnnualCrop       0.20      0.29      0.24         7\n",
      "              Forest       0.50      1.00      0.67        10\n",
      "HerbaceousVegetation       0.43      0.50      0.46         6\n",
      "             Highway       0.00      0.00      0.00         5\n",
      "          Industrial       0.60      0.86      0.71         7\n",
      "             Pasture       0.00      0.00      0.00         2\n",
      "       PermanentCrop       0.00      0.00      0.00         5\n",
      "         Residential       0.00      0.00      0.00         5\n",
      "               River       0.33      0.67      0.44         6\n",
      "             SeaLake       0.00      0.00      0.00         7\n",
      "\n",
      "            accuracy                           0.42        60\n",
      "           macro avg       0.21      0.33      0.25        60\n",
      "        weighted avg       0.25      0.42      0.31        60\n",
      "\n",
      "Confusion Matrix:\n",
      "[[ 2  0  1  0  3  0  0  0  1  0]\n",
      " [ 0 10  0  0  0  0  0  0  0  0]\n",
      " [ 2  0  3  0  0  0  0  0  1  0]\n",
      " [ 1  0  0  0  0  0  0  0  4  0]\n",
      " [ 0  0  0  0  6  0  0  1  0  0]\n",
      " [ 0  2  0  0  0  0  0  0  0  0]\n",
      " [ 4  0  0  0  0  0  0  0  1  0]\n",
      " [ 1  0  3  0  0  0  0  0  1  0]\n",
      " [ 0  1  0  0  1  0  0  0  4  0]\n",
      " [ 0  7  0  0  0  0  0  0  0  0]]\n"
     ]
    },
    {
     "name": "stderr",
     "output_type": "stream",
     "text": [
      "c:\\ProgramData\\anaconda3\\Lib\\site-packages\\sklearn\\metrics\\_classification.py:1509: UndefinedMetricWarning: Precision is ill-defined and being set to 0.0 in labels with no predicted samples. Use `zero_division` parameter to control this behavior.\n",
      "  _warn_prf(average, modifier, f\"{metric.capitalize()} is\", len(result))\n",
      "c:\\ProgramData\\anaconda3\\Lib\\site-packages\\sklearn\\metrics\\_classification.py:1509: UndefinedMetricWarning: Precision is ill-defined and being set to 0.0 in labels with no predicted samples. Use `zero_division` parameter to control this behavior.\n",
      "  _warn_prf(average, modifier, f\"{metric.capitalize()} is\", len(result))\n",
      "c:\\ProgramData\\anaconda3\\Lib\\site-packages\\sklearn\\metrics\\_classification.py:1509: UndefinedMetricWarning: Precision is ill-defined and being set to 0.0 in labels with no predicted samples. Use `zero_division` parameter to control this behavior.\n",
      "  _warn_prf(average, modifier, f\"{metric.capitalize()} is\", len(result))\n"
     ]
    }
   ],
   "source": [
    "# Split the data into training and validation sets.\n",
    "X_train, X_val, y_train, y_val = train_test_split(X, y, test_size=0.3, random_state=42, stratify=y)\n",
    "\n",
    "# Create an instance of the classifier and train it.\n",
    "classifier = LandUseClassifier()\n",
    "classifier.train(X_train, y_train)\n",
    "\n",
    "# Evaluate the classifier on the validation set.\n",
    "print(\"Validation Set Evaluation:\")\n",
    "classifier.evaluate(X_val, y_val)\n"
   ]
  },
  {
   "cell_type": "code",
   "execution_count": 8,
   "metadata": {},
   "outputs": [
    {
     "name": "stdout",
     "output_type": "stream",
     "text": [
      "Classifier saved to ..\\models\\landuse_classifier.pkl\n"
     ]
    }
   ],
   "source": [
    "# Save the classifier to the models folder at the project root.\n",
    "model_dir = os.path.join(\"..\", \"models\")\n",
    "if not os.path.exists(model_dir):\n",
    "    os.makedirs(model_dir)\n",
    "model_path = os.path.join(model_dir, \"landuse_classifier.pkl\")\n",
    "classifier.save(model_path)\n",
    "print(\"Classifier saved to\", model_path)\n"
   ]
  },
  {
   "cell_type": "code",
   "execution_count": 12,
   "metadata": {},
   "outputs": [
    {
     "name": "stdout",
     "output_type": "stream",
     "text": [
      "Python executable: c:\\ProgramData\\anaconda3\\python.exe\n",
      "scikit-learn version: 1.4.2\n"
     ]
    }
   ],
   "source": [
    "import sys\n",
    "import sklearn\n",
    "print(\"Python executable:\", sys.executable)\n",
    "print(\"scikit-learn version:\", sklearn.__version__)\n"
   ]
  },
  {
   "cell_type": "markdown",
   "metadata": {},
   "source": [
    "## Observations\n",
    "\n",
    "- The feature extraction function (mean and standard deviation of color channels) produced a feature vector of length 6.\n",
    "- The classifier (SVM) was trained on a subset of the data (50 samples) and evaluated on a validation split.\n",
    "- The classification report and confusion matrix indicate areas for improvement—particularly by increasing the sample size and possibly refining feature extraction."
   ]
  }
 ],
 "metadata": {
  "kernelspec": {
   "display_name": "base",
   "language": "python",
   "name": "python3"
  },
  "language_info": {
   "codemirror_mode": {
    "name": "ipython",
    "version": 3
   },
   "file_extension": ".py",
   "mimetype": "text/x-python",
   "name": "python",
   "nbconvert_exporter": "python",
   "pygments_lexer": "ipython3",
   "version": "3.12.3"
  }
 },
 "nbformat": 4,
 "nbformat_minor": 2
}
